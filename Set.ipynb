{
  "nbformat": 4,
  "nbformat_minor": 0,
  "metadata": {
    "colab": {
      "provenance": [],
      "authorship_tag": "ABX9TyNYRlQXxO9RI32sow2Mv/Z0",
      "include_colab_link": true
    },
    "kernelspec": {
      "name": "python3",
      "display_name": "Python 3"
    },
    "language_info": {
      "name": "python"
    }
  },
  "cells": [
    {
      "cell_type": "markdown",
      "metadata": {
        "id": "view-in-github",
        "colab_type": "text"
      },
      "source": [
        "<a href=\"https://colab.research.google.com/github/Anubriya/Set/blob/main/Set.ipynb\" target=\"_parent\"><img src=\"https://colab.research.google.com/assets/colab-badge.svg\" alt=\"Open In Colab\"/></a>"
      ]
    },
    {
      "cell_type": "code",
      "execution_count": 2,
      "metadata": {
        "colab": {
          "base_uri": "https://localhost:8080/"
        },
        "id": "OTvVBGBQldyd",
        "outputId": "d7ea052f-d83a-48ed-dfa2-f4c548a49493"
      },
      "outputs": [
        {
          "output_type": "execute_result",
          "data": {
            "text/plain": [
              "{12, 15, 3, 'Rishi', 'Rochita', 'Zoya'}"
            ]
          },
          "metadata": {},
          "execution_count": 2
        }
      ],
      "source": [
        "Anu={\"Rishi\",\"Rochita\",\"Zoya\",15,12,3}\n",
        "Anu"
      ]
    },
    {
      "cell_type": "code",
      "source": [
        "num={1,2,3,4,5,6,15,12}\n",
        "num"
      ],
      "metadata": {
        "colab": {
          "base_uri": "https://localhost:8080/"
        },
        "id": "UTZCnQo9musk",
        "outputId": "de980ece-ffe0-4302-90a0-b2d01dd7af39"
      },
      "execution_count": 3,
      "outputs": [
        {
          "output_type": "execute_result",
          "data": {
            "text/plain": [
              "{1, 2, 3, 4, 5, 6, 12, 15}"
            ]
          },
          "metadata": {},
          "execution_count": 3
        }
      ]
    },
    {
      "cell_type": "code",
      "source": [
        "Anu.add(\"Anubriya\")\n",
        "Anu\n",
        "#Adds an element to the set"
      ],
      "metadata": {
        "colab": {
          "base_uri": "https://localhost:8080/"
        },
        "id": "DgV1sRpjmuuC",
        "outputId": "c92d9095-bb5e-4db8-8013-03f6374a4a64"
      },
      "execution_count": 4,
      "outputs": [
        {
          "output_type": "execute_result",
          "data": {
            "text/plain": [
              "{12, 15, 3, 'Anubriya', 'Rishi', 'Rochita', 'Zoya'}"
            ]
          },
          "metadata": {},
          "execution_count": 4
        }
      ]
    },
    {
      "cell_type": "code",
      "source": [
        "Anu.difference(num)\n",
        "#Returns a set containing the difference between two or more sets\n"
      ],
      "metadata": {
        "colab": {
          "base_uri": "https://localhost:8080/"
        },
        "id": "FLHXZN61muxx",
        "outputId": "a498a6ef-faee-42c0-ca58-0e1aa21a1de6"
      },
      "execution_count": 5,
      "outputs": [
        {
          "output_type": "execute_result",
          "data": {
            "text/plain": [
              "{'Anubriya', 'Rishi', 'Rochita', 'Zoya'}"
            ]
          },
          "metadata": {},
          "execution_count": 5
        }
      ]
    },
    {
      "cell_type": "code",
      "source": [
        "Anu.intersection(num)\n",
        "#Returns a set, that is the intersection of two or more sets"
      ],
      "metadata": {
        "colab": {
          "base_uri": "https://localhost:8080/"
        },
        "id": "9pyHUC9EmuzJ",
        "outputId": "213e2e60-e355-49ec-dc60-9405230c029c"
      },
      "execution_count": 6,
      "outputs": [
        {
          "output_type": "execute_result",
          "data": {
            "text/plain": [
              "{3, 12, 15}"
            ]
          },
          "metadata": {},
          "execution_count": 6
        }
      ]
    },
    {
      "cell_type": "code",
      "source": [
        "Anu.isdisjoint(num)\n",
        "#Returns whether two sets have a intersection or not"
      ],
      "metadata": {
        "colab": {
          "base_uri": "https://localhost:8080/"
        },
        "id": "O_omlI1omu2t",
        "outputId": "5da24ffb-cf0a-4f6c-e3b9-406bafb57128"
      },
      "execution_count": 7,
      "outputs": [
        {
          "output_type": "execute_result",
          "data": {
            "text/plain": [
              "False"
            ]
          },
          "metadata": {},
          "execution_count": 7
        }
      ]
    },
    {
      "cell_type": "code",
      "source": [
        "num.issubset(Anu)\n",
        "#Returns whether another set contains this set or not"
      ],
      "metadata": {
        "colab": {
          "base_uri": "https://localhost:8080/"
        },
        "id": "FXA8GVQRpePp",
        "outputId": "1a0e001e-ef3f-4a6b-a2bb-19d05da44225"
      },
      "execution_count": 8,
      "outputs": [
        {
          "output_type": "execute_result",
          "data": {
            "text/plain": [
              "False"
            ]
          },
          "metadata": {},
          "execution_count": 8
        }
      ]
    },
    {
      "cell_type": "code",
      "source": [
        "Anu.union(num)\n",
        "#Return a set containing the union of sets"
      ],
      "metadata": {
        "colab": {
          "base_uri": "https://localhost:8080/"
        },
        "id": "LLFQJMd9peRG",
        "outputId": "6e915dbe-41a9-4531-b3e0-96650095db69"
      },
      "execution_count": 9,
      "outputs": [
        {
          "output_type": "execute_result",
          "data": {
            "text/plain": [
              "{1, 12, 15, 2, 3, 4, 5, 6, 'Anubriya', 'Rishi', 'Rochita', 'Zoya'}"
            ]
          },
          "metadata": {},
          "execution_count": 9
        }
      ]
    },
    {
      "cell_type": "code",
      "source": [
        "num.clear()\n",
        "num\n",
        "#Removes all the elements from the set"
      ],
      "metadata": {
        "colab": {
          "base_uri": "https://localhost:8080/"
        },
        "id": "mdzOamCFqooy",
        "outputId": "f38fe721-8dc5-44b3-b525-bfbd72903a34"
      },
      "execution_count": 10,
      "outputs": [
        {
          "output_type": "execute_result",
          "data": {
            "text/plain": [
              "set()"
            ]
          },
          "metadata": {},
          "execution_count": 10
        }
      ]
    },
    {
      "cell_type": "code",
      "source": [
        "x=Anu.copy()\n",
        "x\n",
        "#Returns a copy of the set"
      ],
      "metadata": {
        "colab": {
          "base_uri": "https://localhost:8080/"
        },
        "id": "Ghl1qyC7q10J",
        "outputId": "b7ea27ba-b85c-467b-ba1e-18e53a2bc633"
      },
      "execution_count": 11,
      "outputs": [
        {
          "output_type": "execute_result",
          "data": {
            "text/plain": [
              "{12, 15, 3, 'Anubriya', 'Rishi', 'Rochita', 'Zoya'}"
            ]
          },
          "metadata": {},
          "execution_count": 11
        }
      ]
    },
    {
      "cell_type": "code",
      "source": [
        "Anu.add(\"1234\")\n",
        "print(Anu)\n",
        "print(x)"
      ],
      "metadata": {
        "colab": {
          "base_uri": "https://localhost:8080/"
        },
        "id": "9y6okuKYPfeg",
        "outputId": "0ac5b26f-fe5e-43be-ad56-c549e840a789"
      },
      "execution_count": 12,
      "outputs": [
        {
          "output_type": "stream",
          "name": "stdout",
          "text": [
            "{3, 'Rochita', 'Zoya', 'Rishi', 12, '1234', 'Anubriya', 15}\n",
            "{3, 'Rochita', 'Zoya', 'Rishi', 12, 'Anubriya', 15}\n"
          ]
        }
      ]
    },
    {
      "cell_type": "code",
      "source": [
        "Anu.discard(12)\n",
        "Anu\n",
        "#Remove the specified item"
      ],
      "metadata": {
        "colab": {
          "base_uri": "https://localhost:8080/"
        },
        "id": "UHn4eaHyrUk2",
        "outputId": "b327e8e7-456f-462a-d19e-38c24c5cc73b"
      },
      "execution_count": 15,
      "outputs": [
        {
          "output_type": "execute_result",
          "data": {
            "text/plain": [
              "{'1234', 15, 3, 'Anubriya', 'Rishi', 'Rochita', 'Zoya'}"
            ]
          },
          "metadata": {},
          "execution_count": 15
        }
      ]
    }
  ]
}